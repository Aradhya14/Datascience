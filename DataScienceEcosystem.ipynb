{
 "cells": [
  {
   "cell_type": "markdown",
   "id": "f29c45b1-588a-4f7e-bbbb-687c312ae53e",
   "metadata": {
    "tags": []
   },
   "source": [
    "# Data Science Tools and Ecosystem"
   ]
  },
  {
   "cell_type": "markdown",
   "id": "ba37db15-76d5-4960-93e4-12e1e5d7a585",
   "metadata": {},
   "source": [
    "In this notebook, Data Science Tools and Ecosystem are summarized."
   ]
  },
  {
   "cell_type": "markdown",
   "id": "5daac023-2dac-4475-aa12-e533eb344acf",
   "metadata": {},
   "source": [
    "**Objectives:**\n"
   ]
  },
  {
   "cell_type": "markdown",
   "id": "55078950-ba59-4b87-adad-b5b360be4227",
   "metadata": {},
   "source": [
    "List popular languages for Data Science"
   ]
  },
  {
   "cell_type": "markdown",
   "id": "56bc17d1-3dd1-49bc-8e5a-a115dc52edc5",
   "metadata": {},
   "source": [
    "- Python\n",
    "- R\n",
    "- SQL"
   ]
  },
  {
   "cell_type": "markdown",
   "id": "bb0598b3-ca5a-498a-a951-46c174e22155",
   "metadata": {},
   "source": [
    "Some of the popular languages that Data Scientists use are:"
   ]
  },
  {
   "cell_type": "markdown",
   "id": "1ddabca1-eb0f-4fdb-8ab5-4e3f4cb9e82b",
   "metadata": {},
   "source": [
    "1. Python\n",
    "2. R\n",
    "3. SQL\n"
   ]
  },
  {
   "cell_type": "markdown",
   "id": "868868b1-aee6-437a-ba71-a19a08f14d4b",
   "metadata": {},
   "source": [
    "Some of the commonly used libraries used by Data Scientists include:\n",
    "1. Pandas\n",
    "2. Scikit\n",
    "3. TensorFlow"
   ]
  },
  {
   "cell_type": "markdown",
   "id": "879433cb-30ad-4264-8b05-9583cdf515a3",
   "metadata": {},
   "source": [
    "|Data Science Tools|\n",
    "|-----|\n",
    "|Weka|\n",
    "|Scrapy|\n",
    "|Pandas|"
   ]
  },
  {
   "cell_type": "markdown",
   "id": "83f76289-fb1b-4a9c-b587-57de32a6f6a2",
   "metadata": {},
   "source": [
    "### Below are a few examples of evaluating arithmetic expressions in Python"
   ]
  },
  {
   "cell_type": "markdown",
   "id": "819e573b-8d86-4f5f-9ef5-3ea1cabf21dc",
   "metadata": {},
   "source": [
    "This a simple arithmetic expression to mutiply then add integers"
   ]
  },
  {
   "cell_type": "code",
   "execution_count": 7,
   "id": "31394f38-62cd-411f-8a78-74055f95ab20",
   "metadata": {
    "tags": []
   },
   "outputs": [
    {
     "data": {
      "text/plain": [
       "17"
      ]
     },
     "execution_count": 7,
     "metadata": {},
     "output_type": "execute_result"
    }
   ],
   "source": [
    "(3*4)+5"
   ]
  },
  {
   "cell_type": "code",
   "execution_count": 16,
   "id": "b330a8de-525f-47f1-829c-de354eaa1a56",
   "metadata": {
    "tags": []
   },
   "outputs": [
    {
     "data": {
      "text/plain": [
       "3"
      ]
     },
     "execution_count": 16,
     "metadata": {},
     "output_type": "execute_result"
    }
   ],
   "source": [
    "200//60\n"
   ]
  },
  {
   "cell_type": "markdown",
   "id": "78da805f-cfd9-4c43-8c23-c76cedd0afad",
   "metadata": {},
   "source": [
    " This will convert 200 minutes to hours by diving by 60."
   ]
  },
  {
   "cell_type": "markdown",
   "id": "1aa7cf2d-7e54-42fe-a8f5-3b8321129b2c",
   "metadata": {},
   "source": [
    "## Author"
   ]
  },
  {
   "cell_type": "markdown",
   "id": "ac6cf1ac-7154-4ea3-99a4-42a5eccdf7f1",
   "metadata": {},
   "source": [
    "Aradhya\n"
   ]
  },
  {
   "cell_type": "code",
   "execution_count": null,
   "id": "9da76151-2769-43b0-b5ca-cd6227373429",
   "metadata": {},
   "outputs": [],
   "source": []
  }
 ],
 "metadata": {
  "kernelspec": {
   "display_name": "Python",
   "language": "python",
   "name": "conda-env-python-py"
  },
  "language_info": {
   "codemirror_mode": {
    "name": "ipython",
    "version": 3
   },
   "file_extension": ".py",
   "mimetype": "text/x-python",
   "name": "python",
   "nbconvert_exporter": "python",
   "pygments_lexer": "ipython3",
   "version": "3.7.12"
  }
 },
 "nbformat": 4,
 "nbformat_minor": 5
}
